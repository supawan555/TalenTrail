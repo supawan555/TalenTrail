{
 "cells": [
  {
   "cell_type": "markdown",
   "id": "fd08abe1",
   "metadata": {},
   "source": [
    "**Packages are installed:**\n",
    "\n",
    "pypdf - For PDF file reading\n",
    "\n",
    "sentence-transformers - For text embeddings\n",
    "\n",
    "pandas - For data manipulation\n",
    "\n",
    "numpy - For numerical operations\n",
    "\n",
    "scikit-learn - For machine learning utilities"
   ]
  },
  {
   "cell_type": "code",
   "execution_count": 9,
   "id": "7d936e45",
   "metadata": {},
   "outputs": [],
   "source": [
    "import re\n",
    "import pandas as pd\n",
    "import numpy as np\n",
    "from pypdf import PdfReader\n",
    "from sentence_transformers import SentenceTransformer\n",
    "from sklearn.metrics.pairwise import cosine_similarity"
   ]
  },
  {
   "cell_type": "markdown",
   "id": "ed83a7ce",
   "metadata": {},
   "source": [
    "**Read the PDF file**"
   ]
  },
  {
   "cell_type": "code",
   "execution_count": 20,
   "id": "a46c246c",
   "metadata": {},
   "outputs": [
    {
     "name": "stdout",
     "output_type": "stream",
     "text": [
      "Supawan Kongsapcharoen \n",
      "Location: Chiang Rai, Thailand \n",
      "Phone: +66 95-581-0440 | Email: supawankongsapcharoen@gmail.com \n",
      "PROFILE SUMMARY \n",
      "Analytical and detail-oriented Software Engineering student (Year 3) passionate about Data Analysis and \n",
      "Machine Learning. Skilled in SQL, Python, and data visualization, with experience as a Teaching Assistant \n",
      "in Database Systems and several academic projects involving data cleaning, analytics, and predictive \n",
      "modeling. Seeking an internship opportunity to apply analytical thinking and problem-solving skills in real-\n",
      "world datasets. \n",
      "TECHNICAL SKILLS \n",
      "Languages: Python, SQL, JavaScript (basic) \n",
      "Libraries & Tools: Pandas, NumPy, Matplotlib, Scikit-learn \n",
      "Databases: MySQL, MongoDB \n",
      "Version Control: Git, GitHub \n",
      "Soft Skills: Analytical Thinking, Communication, Team Collaboration, Problem Solving \n",
      "PROJECT EXPERIENCE \n",
      "Machine Learning Resume Classifier - Python, Scikit-learn, TF-IDF | 2025 \n",
      "• Built a machine learning model to classify resumes into job categories (e.g., Data Science, HR). \n",
      "• Processed 4,000+ text samples using data cleaning and feature extraction techniques. \n",
      "• Achieved 85% prediction accuracy and visualized results using Matplotlib. \n",
      "Budget Management Mobile App - React Native, Expo, Context API | 2024 \n",
      "• Collaborated in a 6-member team to design and develop a personal finance app. \n",
      "• Implemented account summary features using real data models. \n",
      "• Gained understanding of UI/UX design and software development lifecycle. \n",
      "EXPERIENCE \n",
      "Teaching Assistant – Database Systems \n",
      "Faculty of Information Technology, Maefahluang University | Sep – Oct 2025 \n",
      "• Supported SQL lab sessions for 50+ students. \n",
      "• Reviewed assignments, assisted with debugging, and explained relational concepts. \n",
      "EDUCATION \n",
      "Bachelor of Information Technology in Software Engineering \n",
      "Maefahluang University, Chiang Rai, Thailand \n",
      "(Expected Graduation: 2026) \n",
      "Relevant Coursework: Database Systems, Machine Learning, Data Structures, Software Architecture\n"
     ]
    }
   ],
   "source": [
    "pdf_path = 'data/sample_resume.pdf'  # Path to the PDF file\n",
    "\n",
    "def read_pdf_text(pdf_path: str) -> str:\n",
    "    try:\n",
    "        reader = PdfReader(pdf_path)\n",
    "        chunks = []\n",
    "        for page in reader.pages:\n",
    "            txt = page.extract_text() or \"\"\n",
    "            chunks.append(txt)\n",
    "            fully_text = \"\\n\".join(chunks).strip()\n",
    "        return fully_text\n",
    "    except Exception as e:\n",
    "        print(f\"Error reading PDF: {e}\")\n",
    "        return \"\"\n",
    "    \n",
    "resume_text = read_pdf_text(pdf_path)\n",
    "print(resume_text)"
   ]
  },
  {
   "cell_type": "markdown",
   "id": "681caf46",
   "metadata": {},
   "source": [
    "**Cleaning Resume's data**"
   ]
  },
  {
   "cell_type": "code",
   "execution_count": 21,
   "id": "eeca1a33",
   "metadata": {},
   "outputs": [
    {
     "name": "stdout",
     "output_type": "stream",
     "text": [
      "supawan kongsapcharoen location chiang rai thailand phone 66 95 581 0440 email profile summary analytical and detail oriented software engineering student year 3 passionate about data analysis and machine learning skilled in sql python and data visualization with experience as a teaching assistant in database systems and several academic projects involving data cleaning analytics and predictive modeling seeking an internship opportunity to apply analytical thinking and problem solving skills in real world datasets technical skills languages python sql javascript basic libraries tools pandas numpy matplotlib scikit learn databases mysql mongodb version control git github soft skills analytical thinking communication team collaboration problem solving project experience machine learning resume classifier python scikit learn tf idf 2025 built a machine learning model to classify resumes into job categories e g data science hr processed 4 000 text samples using data cleaning and feature extraction techniques achieved 85 prediction accuracy and visualized results using matplotlib budget management mobile app react native expo context api 2024 collaborated in a 6 member team to design and develop a personal finance app implemented account summary features using real data models gained understanding of ui ux design and software development lifecycle experience teaching assistant database systems faculty of information technology maefahluang university sep oct 2025 supported sql lab sessions for 50 students reviewed assignments assisted with debugging and explained relational concepts education bachelor of information technology in software engineering maefahluang university chiang rai thailand expected graduation 2026 relevant coursework database systems machine learning data structures software architecture\n"
     ]
    }
   ],
   "source": [
    "def clean_text(s: str) -> str:\n",
    "    s = str(s).lower()\n",
    "    s = re.sub(r'http\\S+|www\\S+|\\S+@\\S+', ' ', s)\n",
    "    s = re.sub(r'[^a-z0-9\\s]', ' ', s)\n",
    "    s = re.sub(r'\\s+', ' ', s).strip()\n",
    "    return s\n",
    "\n",
    "resume_text = clean_text(resume_text)\n",
    "print(resume_text)"
   ]
  },
  {
   "cell_type": "markdown",
   "id": "8f6aee28",
   "metadata": {},
   "source": [
    "**Merge column Job Description dataset** for use with NPL (TF-IDF/Sentence-BERT)"
   ]
  },
  {
   "cell_type": "code",
   "execution_count": 22,
   "id": "d4531531",
   "metadata": {},
   "outputs": [
    {
     "name": "stdout",
     "output_type": "stream",
     "text": [
      "                                         jd_text_raw  \\\n",
      "0  .NET Developer Assist in coding and debugging ...   \n",
      "1  .NET Developer Write simple C# programs under ...   \n",
      "2  .NET Developer Contribute to development of sm...   \n",
      "3  .NET Developer Support in software design docu...   \n",
      "4  .NET Developer Learn to design and build ASP.N...   \n",
      "\n",
      "                                             jd_text  \n",
      "0  net developer assist in coding and debugging a...  \n",
      "1  net developer write simple c programs under gu...  \n",
      "2  net developer contribute to development of sma...  \n",
      "3  net developer support in software design docum...  \n",
      "4  net developer learn to design and build asp ne...  \n"
     ]
    }
   ],
   "source": [
    "df = pd.read_csv('data/job_dataset.csv')  # Load job descriptions dataset\n",
    "\n",
    "def build_jd_text(df: pd.DataFrame) -> pd.DataFrame:\n",
    "    title_cols = ['Title']\n",
    "    desc_cols  = ['Responsibilities']\n",
    "    skill_cols = ['Skills']\n",
    "\n",
    "    def safe_get(row, cols):\n",
    "        return \" \".join([str(row[c]) if c in df.columns else \"\" for c in cols])\n",
    "\n",
    "    jd_texts = []\n",
    "    for _, row in df.iterrows():\n",
    "        parts = []\n",
    "        if title_cols: parts.append(safe_get(row, title_cols))\n",
    "        if desc_cols:  parts.append(safe_get(row, desc_cols))\n",
    "        if skill_cols: parts.append(safe_get(row, skill_cols))\n",
    "        jd_texts.append(\" \".join(parts))\n",
    "    df['jd_text_raw'] = jd_texts\n",
    "    df['jd_text'] = df['jd_text_raw'].fillna(\"\").apply(clean_text)\n",
    "    return df\n",
    "\n",
    "df = build_jd_text(df)\n",
    "print(df[['jd_text_raw', 'jd_text']].head())"
   ]
  },
  {
   "cell_type": "markdown",
   "id": "c8461f9f",
   "metadata": {},
   "source": [
    "**Load Job description dataset**"
   ]
  },
  {
   "cell_type": "code",
   "execution_count": 34,
   "id": "e0c19fdd",
   "metadata": {},
   "outputs": [
    {
     "name": "stdout",
     "output_type": "stream",
     "text": [
      "['JobID', 'Title', 'ExperienceLevel', 'YearsOfExperience', 'Skills', 'Responsibilities', 'Keywords']\n",
      "['JobID', 'Title', 'ExperienceLevel', 'YearsOfExperience', 'Skills', 'Responsibilities', 'Keywords', 'jd_text_raw', 'jd_text']\n",
      "--------------------------------------------------------------------------------\n",
      "            Title                                            jd_text\n",
      "0  .NET Developer  net developer assist in coding and debugging a...\n",
      "1  .NET Developer  net developer write simple c programs under gu...\n",
      "2  .NET Developer  net developer contribute to development of sma...\n"
     ]
    }
   ],
   "source": [
    "df_jd = pd.read_csv(\"data/job_dataset.csv\")\n",
    "print(df_jd.columns.tolist())\n",
    "\n",
    "df_jd = build_jd_text(df_jd)\n",
    "print(df_jd.columns.tolist())\n",
    "\n",
    "print(\"-\"*80)\n",
    "\n",
    "jd_role_col = 'Title'\n",
    "print(df_jd[[jd_role_col, 'jd_text']].head(3))"
   ]
  },
  {
   "cell_type": "markdown",
   "id": "0b5de60d",
   "metadata": {},
   "source": [
    "**Create Embeddings and Calculate Similarity**"
   ]
  },
  {
   "cell_type": "code",
   "execution_count": null,
   "id": "020fcf4b",
   "metadata": {},
   "outputs": [
    {
     "name": "stdout",
     "output_type": "stream",
     "text": [
      "sample matched first row:\n",
      "            Title  match_percent_semantic\n",
      "0  .NET Developer               45.426300\n",
      "1  .NET Developer               48.971169\n",
      "2  .NET Developer               46.751400\n",
      "3  .NET Developer               43.796604\n",
      "4  .NET Developer               48.460060\n",
      "5  .NET Developer               36.956669\n",
      "6  .NET Developer               37.137115\n",
      "7  .NET Developer               42.378448\n",
      "8  .NET Developer               45.590660\n",
      "9  .NET Developer               42.485508\n"
     ]
    }
   ],
   "source": [
    "model = SentenceTransformer('all-MiniLM-L6-v2')\n",
    "res_emb = model.encode([resume_text], normalize_embeddings=True)\n",
    "jd_emb  = model.encode(df_jd['jd_text'].tolist(), batch_size=64, normalize_embeddings=True)\n",
    "\n",
    "#Calculate cosine similarity\n",
    "S = cosine_similarity(res_emb, jd_emb)[0]\n",
    "df_jd['match_percent_semantic'] = S * 100\n",
    "\n",
    "print(\"sample match first row:\")\n",
    "print(df_jd[[jd_role_col, 'match_percent_semantic']].head(10))\n"
   ]
  },
  {
   "cell_type": "markdown",
   "id": "baf64487",
   "metadata": {},
   "source": [
    "**Summeries % Match for Role**"
   ]
  },
  {
   "cell_type": "code",
   "execution_count": 38,
   "id": "b77b4ea7",
   "metadata": {},
   "outputs": [
    {
     "name": "stdout",
     "output_type": "stream",
     "text": [
      "                                  Title  best_match_%  avg_match_%  #_jds\n",
      "0          Data Scientist - Entry Level     68.477226    68.477226      1\n",
      "1  Data Analyst / Data Scientist Intern     68.438301    68.438301      1\n",
      "2                Data Science Associate     67.419937    67.419937      1\n",
      "3      Junior Machine Learning Engineer     66.868622    63.006714      2\n",
      "4            Entry Level Data Scientist     65.772842    65.772842      1\n",
      "5            Data Analyst - Experienced     64.956085    60.334721     11\n",
      "6                   Data Science Intern     64.428955    64.428955      1\n",
      "7              Principal Data Scientist     64.385292    64.385292      1\n",
      "8          Data Scientist - Experienced     63.590973    63.590973      1\n",
      "9                         Data Engineer     62.546886    50.600952     20\n"
     ]
    }
   ],
   "source": [
    "role_group = (df_jd\n",
    "              .groupby(jd_role_col)['match_percent_semantic']\n",
    "              .agg(['max','mean','count'])\n",
    "              .sort_values('max', ascending=False)\n",
    "              .reset_index()\n",
    "              .rename(columns={'max':'best_match_%','mean':'avg_match_%','count':'#_jds'}))\n",
    "\n",
    "print(role_group.head(10))"
   ]
  }
 ],
 "metadata": {
  "kernelspec": {
   "display_name": ".venv",
   "language": "python",
   "name": "python3"
  },
  "language_info": {
   "codemirror_mode": {
    "name": "ipython",
    "version": 3
   },
   "file_extension": ".py",
   "mimetype": "text/x-python",
   "name": "python",
   "nbconvert_exporter": "python",
   "pygments_lexer": "ipython3",
   "version": "3.11.9"
  }
 },
 "nbformat": 4,
 "nbformat_minor": 5
}
