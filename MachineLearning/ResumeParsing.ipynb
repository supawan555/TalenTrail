{
 "cells": [
  {
   "cell_type": "markdown",
   "id": "bb0ecc76",
   "metadata": {},
   "source": [
    "*Job Description*\n",
    "**Load CSV and Check the column**"
   ]
  },
  {
   "cell_type": "code",
   "execution_count": 50,
   "id": "e94f7140",
   "metadata": {},
   "outputs": [
    {
     "name": "stdout",
     "output_type": "stream",
     "text": [
      "Loaded rows: 66\n",
      "                            Role  \\\n",
      "0  Business Intelligence Analyst   \n",
      "1                    QA Engineer   \n",
      "2       Test Automation Engineer   \n",
      "\n",
      "                                      JobDescription  \n",
      "0  A Business Intelligence Analyst transforms dat...  \n",
      "1  A QA Engineer ensures the quality and reliabil...  \n",
      "2  A Test Automation Engineer builds and maintain...  \n"
     ]
    }
   ],
   "source": [
    "import pandas as pd\n",
    "\n",
    "CSV_PATH = \"data/job_description.csv\"\n",
    "df_jd = pd.read_csv(CSV_PATH)\n",
    "\n",
    "required_cols = {\"Role\", \"JobDescription\"}\n",
    "missing = required_cols - set(df_jd.columns)\n",
    "assert not missing, f\"CSV is missing columns: {missing}\"\n",
    "\n",
    "print(\"Loaded rows:\", len(df_jd))\n",
    "print(df_jd.head(3))\n"
   ]
  },
  {
   "cell_type": "markdown",
   "id": "6527c50e",
   "metadata": {},
   "source": [
    "**Job description cleaning** then save in new column"
   ]
  },
  {
   "cell_type": "code",
   "execution_count": 51,
   "id": "4a04f08d",
   "metadata": {},
   "outputs": [
    {
     "name": "stdout",
     "output_type": "stream",
     "text": [
      "                            Role  \\\n",
      "0  Business Intelligence Analyst   \n",
      "1                    QA Engineer   \n",
      "2       Test Automation Engineer   \n",
      "\n",
      "                                      JobDescription  \\\n",
      "0  A Business Intelligence Analyst transforms dat...   \n",
      "1  A QA Engineer ensures the quality and reliabil...   \n",
      "2  A Test Automation Engineer builds and maintain...   \n",
      "\n",
      "                               CleanedJobDescription  \n",
      "0  a business intelligence analyst transforms dat...  \n",
      "1  a qa engineer ensures the quality and reliabil...  \n",
      "2  a test automation engineer builds and maintain...  \n"
     ]
    }
   ],
   "source": [
    "import re\n",
    "\n",
    "def clean_text(s: str) -> str:\n",
    "    s = str(s).lower()\n",
    "    s = re.sub(r'http\\S+|www\\S+|\\S+@\\S+', ' ', s)\n",
    "    s = re.sub(r'[^a-z0-9\\s\\.\\+\\#]', ' ', s)\n",
    "    s = re.sub(r'\\s+', ' ', s).strip()\n",
    "    return s\n",
    "df_jd['CleanedJobDescription'] = df_jd['JobDescription'].apply(clean_text)\n",
    "\n",
    "print(df_jd.head(3))"
   ]
  },
  {
   "cell_type": "markdown",
   "id": "ed83a7ce",
   "metadata": {},
   "source": [
    "**Read Resume from the PDF file**"
   ]
  },
  {
   "cell_type": "code",
   "execution_count": 52,
   "id": "a46c246c",
   "metadata": {},
   "outputs": [
    {
     "name": "stdout",
     "output_type": "stream",
     "text": [
      "Supawan Kongsapcharoen \n",
      "Location: Chiang Rai, Thailand \n",
      "Phone: +66 95-581-0440 | Email: supawankongsapcharoen@gmail.com \n",
      "PROFILE SUMMARY \n",
      "Analytical and detail-oriented Software Engineering student (Year 3) passionate about Data Analysis and \n",
      "Machine Learning. Skilled in SQL, Python, and data visualization, with experience as a Teaching Assistant \n",
      "in Database Systems and several academic projects involving data cleaning, analytics, and predictive \n",
      "modeling. Seeking an internship opportunity to apply analytical thinking and problem-solving skills in real-\n",
      "world datasets. \n",
      "TECHNICAL SKILLS \n",
      "Languages: Python, SQL, JavaScript (basic) \n",
      "Libraries & Tools: Pandas, NumPy, Matplotlib, Scikit-learn \n",
      "Databases: MySQL, MongoDB \n",
      "Version Control: Git, GitHub \n",
      "Soft Skills: Analytical Thinking, Communication, Team Collaboration, Problem Solving \n",
      "PROJECT EXPERIENCE \n",
      "Machine Learning Resume Classifier - Python, Scikit-learn, TF-IDF | 2025 \n",
      "• Built a machine learning model to classify resumes into job categories (e.g., Data Science, HR). \n",
      "• Processed 4,000+ text samples using data cleaning and feature extraction techniques. \n",
      "• Achieved 85% prediction accuracy and visualized results using Matplotlib. \n",
      "Budget Management Mobile App - React Native, Expo, Context API | 2024 \n",
      "• Collaborated in a 6-member team to design and develop a personal finance app. \n",
      "• Implemented account summary features using real data models. \n",
      "• Gained understanding of UI/UX design and software development lifecycle. \n",
      "EXPERIENCE \n",
      "Teaching Assistant – Database Systems \n",
      "Faculty of Information Technology, Maefahluang University | Sep – Oct 2025 \n",
      "• Supported SQL lab sessions for 50+ students. \n",
      "• Reviewed assignments, assisted with debugging, and explained relational concepts. \n",
      "EDUCATION \n",
      "Bachelor of Information Technology in Software Engineering \n",
      "Maefahluang University, Chiang Rai, Thailand \n",
      "(Expected Graduation: 2026) \n",
      "Relevant Coursework: Database Systems, Machine Learning, Data Structures, Software Architecture\n"
     ]
    }
   ],
   "source": [
    "from pypdf import PdfReader\n",
    "\n",
    "pdf_path = 'data/sample_resume.pdf'\n",
    "\n",
    "def read_pdf_text(pdf_path: str) -> str:\n",
    "    try:\n",
    "        reader = PdfReader(pdf_path)\n",
    "        chunks = []\n",
    "        for page in reader.pages:\n",
    "            txt = page.extract_text() or \"\"\n",
    "            chunks.append(txt)\n",
    "            fully_text = \"\\n\".join(chunks).strip()\n",
    "        return fully_text\n",
    "    except Exception as e:\n",
    "        print(f\"Error reading PDF: {e}\")\n",
    "        return \"\"\n",
    "    \n",
    "resume_text = read_pdf_text(pdf_path)\n",
    "print(resume_text)"
   ]
  },
  {
   "cell_type": "markdown",
   "id": "681caf46",
   "metadata": {},
   "source": [
    "**Cleaning Resume's data**"
   ]
  },
  {
   "cell_type": "code",
   "execution_count": 53,
   "id": "eeca1a33",
   "metadata": {},
   "outputs": [
    {
     "name": "stdout",
     "output_type": "stream",
     "text": [
      "supawan kongsapcharoen location chiang rai thailand phone +66 95 581 0440 email profile summary analytical and detail oriented software engineering student year 3 passionate about data analysis and machine learning. skilled in sql python and data visualization with experience as a teaching assistant in database systems and several academic projects involving data cleaning analytics and predictive modeling. seeking an internship opportunity to apply analytical thinking and problem solving skills in real world datasets. technical skills languages python sql javascript basic libraries tools pandas numpy matplotlib scikit learn databases mysql mongodb version control git github soft skills analytical thinking communication team collaboration problem solving project experience machine learning resume classifier python scikit learn tf idf 2025 built a machine learning model to classify resumes into job categories e.g. data science hr . processed 4 000+ text samples using data cleaning and feature extraction techniques. achieved 85 prediction accuracy and visualized results using matplotlib. budget management mobile app react native expo context api 2024 collaborated in a 6 member team to design and develop a personal finance app. implemented account summary features using real data models. gained understanding of ui ux design and software development lifecycle. experience teaching assistant database systems faculty of information technology maefahluang university sep oct 2025 supported sql lab sessions for 50+ students. reviewed assignments assisted with debugging and explained relational concepts. education bachelor of information technology in software engineering maefahluang university chiang rai thailand expected graduation 2026 relevant coursework database systems machine learning data structures software architecture\n"
     ]
    }
   ],
   "source": [
    "def clean_text(s: str) -> str:\n",
    "    s = str(s).lower()\n",
    "    s = re.sub(r'http\\S+|www\\S+|\\S+@\\S+', ' ', s)\n",
    "    s = re.sub(r'[^a-z0-9\\s\\.\\+\\#]', ' ', s)\n",
    "    s = re.sub(r'\\s+', ' ', s).strip()\n",
    "    return s\n",
    "\n",
    "resume_clean = clean_text(resume_text)\n",
    "print(resume_clean)"
   ]
  },
  {
   "cell_type": "code",
   "execution_count": null,
   "id": "d5bf5cfb",
   "metadata": {},
   "outputs": [],
   "source": [
    "#  --- Extract Resume Information ---\n",
    "import re\n",
    "import spacy\n",
    "import pdfplumber\n",
    "\n",
    "# โหลดโมเดลภาษาอังกฤษของ spaCy สำหรับ Named Entity Recognition\n",
    "# พยายามโหลด model ถ้าไม่มีให้ดาวน์โหลดอัตโนมัติ ถ้าล้มเหลวให้ fallback เป็น blank model\n",
    "try:\n",
    "    nlp = spacy.load(\"en_core_web_sm\")\n",
    "except OSError:\n",
    "    try:\n",
    "        print(\"spaCy model 'en_core_web_sm' not found. Attempting to download...\")\n",
    "        from spacy.cli import download\n",
    "        download(\"en_core_web_sm\")\n",
    "        nlp = spacy.load(\"en_core_web_sm\")\n",
    "        print(\"Downloaded and loaded 'en_core_web_sm'.\")\n",
    "    except Exception as e:\n",
    "        print(\"Failed to download/load 'en_core_web_sm':\", e)\n",
    "        print(\"Falling back to blank English model (limited NER).\")\n",
    "        nlp = spacy.blank(\"en\")\n",
    "\n",
    "def extract_resume_info(pdf_path: str):\n",
    "    \"\"\"\n",
    "    Extract candidate details (name, email, phone, skills, experience)\n",
    "    from resume PDF.\n",
    "    \"\"\"\n",
    "    # อ่านข้อความจากไฟล์ PDF\n",
    "    text = \"\"\n",
    "    with pdfplumber.open(pdf_path) as pdf:\n",
    "        for page in pdf.pages:\n",
    "            text += page.extract_text() + \"\\n\"\n",
    "\n",
    "    # --- Email ---\n",
    "    email = re.findall(r'\\S+@\\S+', text)\n",
    "    email = email[0] if email else None\n",
    "\n",
    "    # --- Phone ---\n",
    "    phone = re.findall(r'(\\+?\\d[\\d\\s\\-]{8,}\\d)', text)\n",
    "    phone = phone[0] if phone else None\n",
    "\n",
    "    # --- Name (NER) ---\n",
    "    doc = nlp(text)\n",
    "    name = None\n",
    "    for ent in doc.ents:\n",
    "        if ent.label_ == \"PERSON\":\n",
    "            name = ent.text\n",
    "            break\n",
    "\n",
    "    # --- Skills (keyword matching + cleaning text) ---\n",
    "    skill_keywords = [\n",
    "        \"Python\", \"Machine Learning\", \"Deep Learning\", \"SQL\",\n",
    "        \"React\", \"Java\", \"AWS\", \"Docker\", \"TensorFlow\", \"Data Analysis\",\n",
    "        \"NLP\", \"Flask\", \"FastAPI\", \"Excel\"\n",
    "    ]\n",
    "    skills = [s for s in skill_keywords if s.lower() in text.lower()]\n",
    "\n",
    "    # --- Experience (e.g., '3 years of experience') ---\n",
    "    exp = re.findall(r'(\\d+[\\+]? years? of experience)', text, flags=re.IGNORECASE)\n",
    "    exp = exp[0] if exp else None\n",
    "\n",
    "    extracted = {\n",
    "        \"name\": name,\n",
    "        \"email\": email,\n",
    "        \"phone\": phone,\n",
    "        \"skills\": skills,\n",
    "        \"experience\": exp,\n",
    "        \"raw_text\": text  # เก็บไว้ใช้ใน pipeline อื่น\n",
    "    }\n",
    "\n",
    "    return extracted\n",
    "\n",
    "\n",
    "#  ทดสอบกับ sample resume\n",
    "pdf_path = \"data/sample_resume.pdf\"\n",
    "resume_data = extract_resume_info(pdf_path)\n",
    "\n",
    "print(\"Extracted Resume Info:\")\n",
    "for key, value in resume_data.items():\n",
    "    if key != \"raw_text\":  \n",
    "     print(f\"{key}: {value}\")"
   ]
  },
  {
   "cell_type": "markdown",
   "id": "8986642d",
   "metadata": {},
   "source": [
    "**Detect the Candidate's Role form User typing**"
   ]
  },
  {
   "cell_type": "code",
   "execution_count": 54,
   "id": "f8d9bf13",
   "metadata": {},
   "outputs": [
    {
     "name": "stdout",
     "output_type": "stream",
     "text": [
      "User input role: Dta Anyst\n",
      "Matched role: Data Analyst with confidence: 85.71428571428572%\n"
     ]
    }
   ],
   "source": [
    "from rapidfuzz import process, fuzz\n",
    "\n",
    "ALLOWED_ROLES = sorted(df_jd[\"Role\"].dropna().unique().tolist())\n",
    "\n",
    "def normalize_role_input(user_role: str, choices=ALLOWED_ROLES, threshold=80):\n",
    "    cand, score, _ = process.extractOne(user_role, choices, scorer=fuzz.WRatio)\n",
    "    return (cand, score) if score >= threshold else (None, score)\n",
    "\n",
    "user_input_role = \"Dta Anyst\"\n",
    "matched_role, score = normalize_role_input(user_input_role)\n",
    "\n",
    "if not matched_role:\n",
    "    raise ValueError(f\"Role '{user_input_role}' not recognized (best score={score}). Try one of: {ALLOWED_ROLES[:10]} ...\")\n",
    "\n",
    "print(f\"User input role: {user_input_role}\")\n",
    "print(f\"Matched role: {matched_role} with confidence: {score}%\")\n"
   ]
  },
  {
   "cell_type": "markdown",
   "id": "4c6e1118",
   "metadata": {},
   "source": [
    "**Embeddings + Cosine similarity → % Match**"
   ]
  },
  {
   "cell_type": "code",
   "execution_count": null,
   "id": "d80bb624",
   "metadata": {},
   "outputs": [
    {
     "name": "stdout",
     "output_type": "stream",
     "text": [
      "Role: Data Analyst\n",
      "Percent match: 41.61%\n"
     ]
    }
   ],
   "source": [
    "import numpy as np\n",
    "from sentence_transformers import SentenceTransformer\n",
    "from sklearn.metrics.pairwise import cosine_similarity\n",
    "\n",
    "model = SentenceTransformer(\"all-MiniLM-L6-v2\")\n",
    "\n",
    "# specify role that matched\n",
    "sub = df_jd[df_jd[\"Role\"].str.lower() == matched_role.lower()].copy()\n",
    "assert len(sub) > 0, f\"No JD found for role: {matched_role}\"\n",
    "\n",
    "# embeddings\n",
    "res_emb = model.encode([resume_clean], normalize_embeddings=True)\n",
    "jd_emb  = model.encode(sub[\"CleanedJobDescription\"].tolist(), batch_size=64, normalize_embeddings=True)\n",
    "\n",
    "# cosine similarity -> percentage match\n",
    "sims = cosine_similarity(res_emb, jd_emb)[0]             # shape: [n_jds_for_role]\n",
    "perc = np.clip(sims, 0, 1) * 100.0\n",
    "sub[\"Match_%\"] = perc\n",
    "\n",
    "perc_match = sub[\"Match_%\"].max()\n",
    "\n",
    "print(f\"Role: {matched_role}\")\n",
    "print(f\"Percent match: {perc_match:.2f}%\")\n",
    "\n"
   ]
  },
  {
   "cell_type": "markdown",
   "id": "48e8647d",
   "metadata": {},
   "source": [
    "**Cache JD embeddings to avoid recomputation**"
   ]
  },
  {
   "cell_type": "code",
   "execution_count": 61,
   "id": "6c2be179",
   "metadata": {},
   "outputs": [],
   "source": [
    "import pickle\n",
    "\n",
    "pickle.dump({\"roles\": df_jd[\"Role\"].tolist(),\n",
    "             \"jd_texts\": df_jd[\"CleanedJobDescription\"].tolist(),\n",
    "             \"embeddings\": jd_emb}, open(\"jd_embeddings_cache.pkl\", \"wb\"))\n"
   ]
  },
  {
   "cell_type": "markdown",
   "id": "d6db57a2",
   "metadata": {},
   "source": [
    "**Skills overlap**"
   ]
  },
  {
   "cell_type": "code",
   "execution_count": null,
   "id": "2f039740",
   "metadata": {},
   "outputs": [
    {
     "name": "stdout",
     "output_type": "stream",
     "text": [
      "            Role    Match_%  SkillOverlap_%    Final_%  \\\n",
      "10  Data Analyst  41.606106            50.0  44.124273   \n",
      "\n",
      "                                       JobDescription  \n",
      "10  A Data Analyst collects, cleans, and interpret...  \n"
     ]
    }
   ],
   "source": [
    "SKILLS = {\n",
    "  \"python\",\"pandas\",\"numpy\",\"scikit-learn\",\"tensorflow\",\"pytorch\",\"sql\",\"tableau\",\"power bi\",\n",
    "  \"react\",\"node\",\"docker\",\"kubernetes\",\"aws\",\"azure\",\"gcp\",\"java\",\"spring\",\"c#\",\"dotnet\",\".net\",\n",
    "  \"javascript\",\"typescript\",\"html\",\"css\",\"django\",\"flask\",\"spark\",\"airflow\",\"hadoop\",\"kafka\",\n",
    "  \"terraform\",\"git\",\"ci\",\"cd\",\"jenkins\",\"linux\",\"bash\",\"rest\",\"graphql\",\"firebase\",\"swift\",\"kotlin\"\n",
    "}\n",
    "\n",
    "def extract_skills(text: str):\n",
    "    found = set()\n",
    "    for sk in SKILLS:\n",
    "        if re.search(rf\"\\b{re.escape(sk)}\\b\", text):\n",
    "            found.add(sk)\n",
    "    return found\n",
    "\n",
    "resume_sk = extract_skills(resume_clean)\n",
    "sub[\"JD_skills_set\"] = sub[\"CleanedJobDescription\"].apply(extract_skills)\n",
    "sub[\"SkillOverlap_%\"] = sub[\"JD_skills_set\"].apply(\n",
    "    lambda s: (len(s & resume_sk) / max(1, len(s))) * 100.0\n",
    ")\n",
    "\n",
    "# ผสมคะแนน: 0.7 semantic + 0.3 skill overlap (ปรับน้ำหนักได้)s\n",
    "sub[\"Final_%\"] = 0.7*sub[\"Match_%\"] + 0.3*sub[\"SkillOverlap_%\"]\n",
    "print(sub.sort_values(\"Final_%\", ascending=False).head(3)[[\"Role\",\"Match_%\",\"SkillOverlap_%\",\"Final_%\",\"JobDescription\"]])\n"
   ]
  }
 ],
 "metadata": {
  "kernelspec": {
   "display_name": ".venv",
   "language": "python",
   "name": "python3"
  },
  "language_info": {
   "codemirror_mode": {
    "name": "ipython",
    "version": 3
   },
   "file_extension": ".py",
   "mimetype": "text/x-python",
   "name": "python",
   "nbconvert_exporter": "python",
   "pygments_lexer": "ipython3",
   "version": "3.11.9"
  }
 },
 "nbformat": 4,
 "nbformat_minor": 5
}
